{
 "cells": [
  {
   "cell_type": "code",
   "execution_count": 1,
   "metadata": {},
   "outputs": [],
   "source": [
    "import pandas as pd\n",
    "import matplotlib.pyplot as plt\n",
    "%matplotlib inline"
   ]
  },
  {
   "cell_type": "code",
   "execution_count": 2,
   "metadata": {},
   "outputs": [
    {
     "data": {
      "text/html": [
       "<div>\n",
       "<style scoped>\n",
       "    .dataframe tbody tr th:only-of-type {\n",
       "        vertical-align: middle;\n",
       "    }\n",
       "\n",
       "    .dataframe tbody tr th {\n",
       "        vertical-align: top;\n",
       "    }\n",
       "\n",
       "    .dataframe thead th {\n",
       "        text-align: right;\n",
       "    }\n",
       "</style>\n",
       "<table border=\"1\" class=\"dataframe\">\n",
       "  <thead>\n",
       "    <tr style=\"text-align: right;\">\n",
       "      <th></th>\n",
       "      <th>petal length</th>\n",
       "      <th>petal width</th>\n",
       "      <th>spetal length</th>\n",
       "      <th>spetal width</th>\n",
       "      <th>species</th>\n",
       "    </tr>\n",
       "  </thead>\n",
       "  <tbody>\n",
       "    <tr>\n",
       "      <th>0</th>\n",
       "      <td>5.1</td>\n",
       "      <td>3.5</td>\n",
       "      <td>1.4</td>\n",
       "      <td>0.2</td>\n",
       "      <td>Iris-setosa</td>\n",
       "    </tr>\n",
       "    <tr>\n",
       "      <th>1</th>\n",
       "      <td>4.9</td>\n",
       "      <td>3.0</td>\n",
       "      <td>1.4</td>\n",
       "      <td>0.2</td>\n",
       "      <td>Iris-setosa</td>\n",
       "    </tr>\n",
       "    <tr>\n",
       "      <th>2</th>\n",
       "      <td>4.7</td>\n",
       "      <td>3.2</td>\n",
       "      <td>1.3</td>\n",
       "      <td>0.2</td>\n",
       "      <td>Iris-setosa</td>\n",
       "    </tr>\n",
       "    <tr>\n",
       "      <th>3</th>\n",
       "      <td>4.6</td>\n",
       "      <td>3.1</td>\n",
       "      <td>1.5</td>\n",
       "      <td>0.2</td>\n",
       "      <td>Iris-setosa</td>\n",
       "    </tr>\n",
       "    <tr>\n",
       "      <th>4</th>\n",
       "      <td>5.0</td>\n",
       "      <td>3.6</td>\n",
       "      <td>1.4</td>\n",
       "      <td>0.2</td>\n",
       "      <td>Iris-setosa</td>\n",
       "    </tr>\n",
       "  </tbody>\n",
       "</table>\n",
       "</div>"
      ],
      "text/plain": [
       "   petal length  petal width  spetal length  spetal width      species\n",
       "0           5.1          3.5            1.4           0.2  Iris-setosa\n",
       "1           4.9          3.0            1.4           0.2  Iris-setosa\n",
       "2           4.7          3.2            1.3           0.2  Iris-setosa\n",
       "3           4.6          3.1            1.5           0.2  Iris-setosa\n",
       "4           5.0          3.6            1.4           0.2  Iris-setosa"
      ]
     },
     "execution_count": 2,
     "metadata": {},
     "output_type": "execute_result"
    }
   ],
   "source": [
    "# Ładowanie danych\n",
    "\n",
    "iris = pd.read_csv(r\"./data/iris.data\", header = None, names = ['petal length', 'petal width', 'spetal length', 'spetal width', 'species'])\n",
    "iris.head()"
   ]
  },
  {
   "cell_type": "code",
   "execution_count": 3,
   "metadata": {},
   "outputs": [],
   "source": [
    "# model regresji liniowej, jest to rodzaj algorytmu pozwalającego przewidywać wartośći ciągłe w oparciu o dostarczane cechy próbek\n",
    "\n",
    "from sklearn.linear_model import LinearRegression\n"
   ]
  },
  {
   "cell_type": "code",
   "execution_count": 4,
   "metadata": {},
   "outputs": [],
   "source": [
    "# split data into features (X) and labels (y)\n",
    "# znane cechy próbki oznaczamy wielką literką X oraz przypisane tym próbkom etykiety y wprzypadku danych uczących znanych te etykiety są znane i opisane \n",
    "# w przypadku danych uczących etykiety te mussi odgadnąćmodel\n",
    "\n",
    "X = iris.iloc[:, :4]\n",
    "y = iris.loc[:, 'species']"
   ]
  },
  {
   "cell_type": "code",
   "execution_count": 5,
   "metadata": {},
   "outputs": [
    {
     "data": {
      "text/plain": [
       "0    1\n",
       "1    1\n",
       "2    1\n",
       "3    1\n",
       "4    1\n",
       "Name: species, dtype: int64"
      ]
     },
     "execution_count": 5,
     "metadata": {},
     "output_type": "execute_result"
    }
   ],
   "source": [
    "# dictionary allowing to color points on diagrams\n",
    "\n",
    "categories = {'Iris-setosa':1, 'Iris-versicolor': 2, 'Iris-virginica':3}\n",
    "y= y.apply(lambda x: categories[x])\n",
    "\n",
    "X.head()\n",
    "y.head()"
   ]
  },
  {
   "cell_type": "code",
   "execution_count": 6,
   "metadata": {},
   "outputs": [
    {
     "data": {
      "text/plain": [
       "0.9304223675331595"
      ]
     },
     "execution_count": 6,
     "metadata": {},
     "output_type": "execute_result"
    }
   ],
   "source": [
    "# model is created here\n",
    "\n",
    "lr = LinearRegression()\n",
    "lr.fit(X,y)\n",
    "lr.score(X,y)"
   ]
  },
  {
   "cell_type": "code",
   "execution_count": 7,
   "metadata": {},
   "outputs": [],
   "source": [
    "# tworzymy próbki opisujące 3 niby kwiaty\n",
    "\n",
    "iris_1 = [5, 3.5, 1.4, 0.2]\n",
    "iris_2 = [6.4, 3, 4.5, 1]\n",
    "iris_3 = [6, 3, 5, 2]\n",
    "other = [1, 2, 3, 4]\n",
    "\n",
    "flowers = [iris_1, iris_2, iris_3, other]\n"
   ]
  },
  {
   "cell_type": "code",
   "execution_count": 8,
   "metadata": {},
   "outputs": [
    {
     "name": "stdout",
     "output_type": "stream",
     "text": [
      "[0.92831587 1.98841763 2.75570903 4.11444226]\n"
     ]
    }
   ],
   "source": [
    "# wywołujemy metode predict dla modelu \n",
    "# running prediction in the model\n",
    "species_predict = lr.predict(flowers)\n",
    "print(species_predict)"
   ]
  },
  {
   "cell_type": "code",
   "execution_count": 9,
   "metadata": {},
   "outputs": [
    {
     "name": "stdout",
     "output_type": "stream",
     "text": [
      "Flower [5, 3.5, 1.4, 0.2] is Iris-setosa\n",
      "Flower [6.4, 3, 4.5, 1] is Iris-versicolor\n",
      "Flower [6, 3, 5, 2] is Iris-virginica\n",
      "Flower [1, 2, 3, 4] is UNKNOWN\n"
     ]
    }
   ],
   "source": [
    "# zamiana wartości ciągłych w wartości dyskretne\n",
    "# replacing continous values into discrete values\n",
    "\n",
    "for f, s in zip(flowers, species_predict):\n",
    "    if round(s) == 1:\n",
    "        print('Flower {} is {}'.format(f, 'Iris-setosa'))\n",
    "    elif round(s) == 2:\n",
    "        print('Flower {} is {}'.format(f, 'Iris-versicolor'))\n",
    "    elif round(s) == 3:\n",
    "        print('Flower {} is {}'.format(f, 'Iris-virginica'))\n",
    "    else:\n",
    "        print('Flower {} is {}'.format(f, 'UNKNOWN'))"
   ]
  }
 ],
 "metadata": {
  "interpreter": {
   "hash": "0f6feec9674807885accde54b8941f1c7586a1a24c9fdb969528a40765d54f9a"
  },
  "kernelspec": {
   "display_name": "Python 3.8.11 ('base')",
   "language": "python",
   "name": "python3"
  },
  "language_info": {
   "codemirror_mode": {
    "name": "ipython",
    "version": 3
   },
   "file_extension": ".py",
   "mimetype": "text/x-python",
   "name": "python",
   "nbconvert_exporter": "python",
   "pygments_lexer": "ipython3",
   "version": "3.8.11"
  },
  "orig_nbformat": 4
 },
 "nbformat": 4,
 "nbformat_minor": 2
}
